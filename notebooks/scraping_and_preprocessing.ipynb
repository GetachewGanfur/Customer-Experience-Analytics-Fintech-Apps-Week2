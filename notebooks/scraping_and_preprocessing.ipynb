{
 "cells": [
  {
   "cell_type": "code",
   "execution_count": null,
   "id": "c8f4417b",
   "metadata": {},
   "outputs": [
    {
     "name": "stdout",
     "output_type": "stream",
     "text": [
      "Project root: d:\\Disk(D)\\Coding\\10Academy\\Customer-Experience-Analytics-Fintech-Apps-Week2\n"
     ]
    }
   ],
   "source": [
    "import sys\n",
    "import os\n",
    "import google_play_scraper\n",
    "import pandas as pd\n",
    " \n",
    "# Get the current working directory\n",
    "os.makedirs('../data', exist_ok=True)\n",
    "current_dir = os.getcwd()\n",
    "\n",
    "# Add the project root directory to the Python path\n",
    "project_root = os.path.abspath('..')\n",
    "if project_root not in sys.path:\n",
    "    sys.path.append(project_root)\n",
    "\n",
    "# Print the project root to verify\n",
    "print(f\"Project root: {project_root}\")\n",
    "%load_ext autoreload \n",
    "%autoreload 2"
   ]
  },
  {
   "cell_type": "code",
   "execution_count": 2,
   "id": "524d0948",
   "metadata": {},
   "outputs": [
    {
     "data": {
      "text/plain": [
       "'d:\\\\Disk(D)\\\\Coding\\\\10Academy\\\\Customer-Experience-Analytics-Fintech-Apps-Week2\\\\notebooks'"
      ]
     },
     "execution_count": 2,
     "metadata": {},
     "output_type": "execute_result"
    }
   ],
   "source": [
    "os.getcwd() #get Current working directory"
   ]
  },
  {
   "cell_type": "code",
   "execution_count": 4,
   "id": "64b7cbc6",
   "metadata": {},
   "outputs": [
    {
     "ename": "FileNotFoundError",
     "evalue": "[Errno 2] No such file or directory: 'd:\\\\Disk(D)\\\\Coding\\\\10Academy\\\\Customer-Experience-Analytics-Fintech-Apps-Week2\\\\log\\\\scraper.log'",
     "output_type": "error",
     "traceback": [
      "\u001b[31m---------------------------------------------------------------------------\u001b[39m",
      "\u001b[31mFileNotFoundError\u001b[39m                         Traceback (most recent call last)",
      "\u001b[36mCell\u001b[39m\u001b[36m \u001b[39m\u001b[32mIn[4]\u001b[39m\u001b[32m, line 1\u001b[39m\n\u001b[32m----> \u001b[39m\u001b[32m1\u001b[39m \u001b[38;5;28;01mfrom\u001b[39;00m\u001b[38;5;250m \u001b[39m\u001b[34;01msrc\u001b[39;00m\u001b[34;01m.\u001b[39;00m\u001b[34;01mPreprocessing\u001b[39;00m\u001b[34;01m.\u001b[39;00m\u001b[34;01mplay_store_scraper\u001b[39;00m\u001b[38;5;250m \u001b[39m\u001b[38;5;28;01mimport\u001b[39;00m PlayStoreScraper\n",
      "\u001b[36mFile \u001b[39m\u001b[32md:\\Disk(D)\\Coding\\10Academy\\Customer-Experience-Analytics-Fintech-Apps-Week2\\src\\Preprocessing\\play_store_scraper.py:7\u001b[39m\n\u001b[32m      4\u001b[39m \u001b[38;5;28;01mimport\u001b[39;00m\u001b[38;5;250m \u001b[39m\u001b[34;01mlogging\u001b[39;00m\n\u001b[32m      6\u001b[39m \u001b[38;5;66;03m# Set up logging \u001b[39;00m\n\u001b[32m----> \u001b[39m\u001b[32m7\u001b[39m \u001b[43mlogging\u001b[49m\u001b[43m.\u001b[49m\u001b[43mbasicConfig\u001b[49m\u001b[43m(\u001b[49m\u001b[43mfilename\u001b[49m\u001b[43m=\u001b[49m\u001b[33;43m'\u001b[39;49m\u001b[33;43m../log/scraper.log\u001b[39;49m\u001b[33;43m'\u001b[39;49m\u001b[43m,\u001b[49m\u001b[43m \u001b[49m\u001b[43mlevel\u001b[49m\u001b[43m=\u001b[49m\u001b[43mlogging\u001b[49m\u001b[43m.\u001b[49m\u001b[43mINFO\u001b[49m\u001b[43m,\u001b[49m\u001b[43m \u001b[49m\u001b[38;5;28;43mformat\u001b[39;49m\u001b[43m=\u001b[49m\u001b[33;43m'\u001b[39;49m\u001b[38;5;132;43;01m%(asctime)s\u001b[39;49;00m\u001b[33;43m - \u001b[39;49m\u001b[38;5;132;43;01m%(levelname)s\u001b[39;49;00m\u001b[33;43m - \u001b[39;49m\u001b[38;5;132;43;01m%(message)s\u001b[39;49;00m\u001b[33;43m'\u001b[39;49m\u001b[43m)\u001b[49m\n\u001b[32m      9\u001b[39m \u001b[38;5;28;01mclass\u001b[39;00m\u001b[38;5;250m \u001b[39m\u001b[34;01mPlayStoreScraper\u001b[39;00m:\n\u001b[32m     10\u001b[39m     \u001b[38;5;28;01mdef\u001b[39;00m\u001b[38;5;250m \u001b[39m\u001b[34m__init__\u001b[39m(\u001b[38;5;28mself\u001b[39m, app_name, app_id):\n",
      "\u001b[36mFile \u001b[39m\u001b[32m~\\AppData\\Local\\Programs\\Python\\Python313\\Lib\\logging\\__init__.py:2099\u001b[39m, in \u001b[36mbasicConfig\u001b[39m\u001b[34m(**kwargs)\u001b[39m\n\u001b[32m   2097\u001b[39m     \u001b[38;5;28;01melse\u001b[39;00m:\n\u001b[32m   2098\u001b[39m         encoding = io.text_encoding(encoding)\n\u001b[32m-> \u001b[39m\u001b[32m2099\u001b[39m     h = \u001b[43mFileHandler\u001b[49m\u001b[43m(\u001b[49m\u001b[43mfilename\u001b[49m\u001b[43m,\u001b[49m\u001b[43m \u001b[49m\u001b[43mmode\u001b[49m\u001b[43m,\u001b[49m\n\u001b[32m   2100\u001b[39m \u001b[43m                    \u001b[49m\u001b[43mencoding\u001b[49m\u001b[43m=\u001b[49m\u001b[43mencoding\u001b[49m\u001b[43m,\u001b[49m\u001b[43m \u001b[49m\u001b[43merrors\u001b[49m\u001b[43m=\u001b[49m\u001b[43merrors\u001b[49m\u001b[43m)\u001b[49m\n\u001b[32m   2101\u001b[39m \u001b[38;5;28;01melse\u001b[39;00m:\n\u001b[32m   2102\u001b[39m     stream = kwargs.pop(\u001b[33m\"\u001b[39m\u001b[33mstream\u001b[39m\u001b[33m\"\u001b[39m, \u001b[38;5;28;01mNone\u001b[39;00m)\n",
      "\u001b[36mFile \u001b[39m\u001b[32m~\\AppData\\Local\\Programs\\Python\\Python313\\Lib\\logging\\__init__.py:1218\u001b[39m, in \u001b[36mFileHandler.__init__\u001b[39m\u001b[34m(self, filename, mode, encoding, delay, errors)\u001b[39m\n\u001b[32m   1216\u001b[39m     \u001b[38;5;28mself\u001b[39m.stream = \u001b[38;5;28;01mNone\u001b[39;00m\n\u001b[32m   1217\u001b[39m \u001b[38;5;28;01melse\u001b[39;00m:\n\u001b[32m-> \u001b[39m\u001b[32m1218\u001b[39m     StreamHandler.\u001b[34m__init__\u001b[39m(\u001b[38;5;28mself\u001b[39m, \u001b[38;5;28;43mself\u001b[39;49m\u001b[43m.\u001b[49m\u001b[43m_open\u001b[49m\u001b[43m(\u001b[49m\u001b[43m)\u001b[49m)\n",
      "\u001b[36mFile \u001b[39m\u001b[32m~\\AppData\\Local\\Programs\\Python\\Python313\\Lib\\logging\\__init__.py:1247\u001b[39m, in \u001b[36mFileHandler._open\u001b[39m\u001b[34m(self)\u001b[39m\n\u001b[32m   1242\u001b[39m \u001b[38;5;250m\u001b[39m\u001b[33;03m\"\"\"\u001b[39;00m\n\u001b[32m   1243\u001b[39m \u001b[33;03mOpen the current base file with the (original) mode and encoding.\u001b[39;00m\n\u001b[32m   1244\u001b[39m \u001b[33;03mReturn the resulting stream.\u001b[39;00m\n\u001b[32m   1245\u001b[39m \u001b[33;03m\"\"\"\u001b[39;00m\n\u001b[32m   1246\u001b[39m open_func = \u001b[38;5;28mself\u001b[39m._builtin_open\n\u001b[32m-> \u001b[39m\u001b[32m1247\u001b[39m \u001b[38;5;28;01mreturn\u001b[39;00m \u001b[43mopen_func\u001b[49m\u001b[43m(\u001b[49m\u001b[38;5;28;43mself\u001b[39;49m\u001b[43m.\u001b[49m\u001b[43mbaseFilename\u001b[49m\u001b[43m,\u001b[49m\u001b[43m \u001b[49m\u001b[38;5;28;43mself\u001b[39;49m\u001b[43m.\u001b[49m\u001b[43mmode\u001b[49m\u001b[43m,\u001b[49m\n\u001b[32m   1248\u001b[39m \u001b[43m                 \u001b[49m\u001b[43mencoding\u001b[49m\u001b[43m=\u001b[49m\u001b[38;5;28;43mself\u001b[39;49m\u001b[43m.\u001b[49m\u001b[43mencoding\u001b[49m\u001b[43m,\u001b[49m\u001b[43m \u001b[49m\u001b[43merrors\u001b[49m\u001b[43m=\u001b[49m\u001b[38;5;28;43mself\u001b[39;49m\u001b[43m.\u001b[49m\u001b[43merrors\u001b[49m\u001b[43m)\u001b[49m\n",
      "\u001b[31mFileNotFoundError\u001b[39m: [Errno 2] No such file or directory: 'd:\\\\Disk(D)\\\\Coding\\\\10Academy\\\\Customer-Experience-Analytics-Fintech-Apps-Week2\\\\log\\\\scraper.log'"
     ]
    }
   ],
   "source": [
    "from src.Preprocessing.play_store_scraper import PlayStoreScraper"
   ]
  },
  {
   "cell_type": "code",
   "execution_count": 25,
   "id": "d6e670ad",
   "metadata": {},
   "outputs": [],
   "source": [
    "from src.Preprocessing.play_store_scraper import PlayStoreScraper\n",
    "\n",
    "# Initialize the PlayStoreScraper for each bank\n",
    "CBE_scraper = PlayStoreScraper(app_name='CBE', app_id='com.combanketh.mobilebanking')\n",
    "BOA_scraper = PlayStoreScraper(app_name='BOA', app_id='com.boa.boaMobileBanking')\n",
    "Dashen_scraper = PlayStoreScraper(app_name='Dashen', app_id='com.dashen.dashensuperapp')\n"
   ]
  },
  {
   "cell_type": "code",
   "execution_count": 26,
   "id": "3605429d",
   "metadata": {},
   "outputs": [
    {
     "name": "stdout",
     "output_type": "stream",
     "text": [
      "Fetching reviews for CBE (com.combanketh.mobilebanking)...\n",
      "Saved 0 reviews to ../data/CBE_reviews.csv\n",
      "Fetching reviews for BOA (com.boa.boaMobileBanking)...\n",
      "Saved 0 reviews to ../data/BOA_reviews.csv\n",
      "Fetching reviews for Dashen (com.dashen.dashensuperapp)...\n",
      "Saved 0 reviews to ../data/Dashen_reviews.csv\n"
     ]
    }
   ],
   "source": [
    "# scrape the reviews for each bank\n",
    "CBE_scraper.scrape_reviews()\n",
    "BOA_scraper.scrape_reviews()\n",
    "Dashen_scraper.scrape_reviews()"
   ]
  },
  {
   "cell_type": "code",
   "execution_count": 27,
   "id": "1e940724",
   "metadata": {},
   "outputs": [
    {
     "name": "stdout",
     "output_type": "stream",
     "text": [
      "Loaded data from ../data/BOA_reviews.csv\n",
      "Loaded data from ../data/CBE_reviews.csv\n",
      "Loaded data from ../data/Dashen_reviews.csv\n"
     ]
    }
   ],
   "source": [
    "from src.Preprocessing.preprocessor import Preprocessor\n",
    "\n",
    "bank_paths = [\n",
    "    \"../data/BOA_reviews.csv\",\n",
    "    \"../data/CBE_reviews.csv\",\n",
    "    \"../data/Dashen_reviews.csv\"\n",
    "]\n",
    "\n",
    "# initialize the Preprocessing class\n",
    "preprocessing = Preprocessor(file_paths=bank_paths)\n",
    "\n",
    "#load the data\n",
    "data = preprocessing.load_data()"
   ]
  },
  {
   "cell_type": "code",
   "execution_count": 28,
   "id": "efed1600",
   "metadata": {},
   "outputs": [
    {
     "name": "stdout",
     "output_type": "stream",
     "text": [
      "CBE exists: True\n",
      "BOA exists: True\n",
      "Dashen exists: True\n"
     ]
    }
   ],
   "source": [
    "for bank in ['CBE', 'BOA', 'Dashen']:\n",
    "    path = f'../data/{bank}_reviews.csv'\n",
    "    print(bank, 'exists:', os.path.exists(path))"
   ]
  },
  {
   "cell_type": "code",
   "execution_count": 31,
   "id": "2e62d09b",
   "metadata": {},
   "outputs": [
    {
     "data": {
      "application/vnd.microsoft.datawrangler.viewer.v0+json": {
       "columns": [
        {
         "name": "index",
         "rawType": "int64",
         "type": "integer"
        },
        {
         "name": "review",
         "rawType": "object",
         "type": "string"
        },
        {
         "name": "rating",
         "rawType": "object",
         "type": "string"
        },
        {
         "name": "date",
         "rawType": "datetime64[ns]",
         "type": "datetime"
        },
        {
         "name": "bank",
         "rawType": "object",
         "type": "string"
        },
        {
         "name": "source",
         "rawType": "object",
         "type": "string"
        }
       ],
       "ref": "a5942cee-690e-4ab1-ab30-bdaa98bdf2fb",
       "rows": [],
       "shape": {
        "columns": 5,
        "rows": 0
       }
      },
      "text/html": [
       "<div>\n",
       "<style scoped>\n",
       "    .dataframe tbody tr th:only-of-type {\n",
       "        vertical-align: middle;\n",
       "    }\n",
       "\n",
       "    .dataframe tbody tr th {\n",
       "        vertical-align: top;\n",
       "    }\n",
       "\n",
       "    .dataframe thead th {\n",
       "        text-align: right;\n",
       "    }\n",
       "</style>\n",
       "<table border=\"1\" class=\"dataframe\">\n",
       "  <thead>\n",
       "    <tr style=\"text-align: right;\">\n",
       "      <th></th>\n",
       "      <th>review</th>\n",
       "      <th>rating</th>\n",
       "      <th>date</th>\n",
       "      <th>bank</th>\n",
       "      <th>source</th>\n",
       "    </tr>\n",
       "  </thead>\n",
       "  <tbody>\n",
       "  </tbody>\n",
       "</table>\n",
       "</div>"
      ],
      "text/plain": [
       "Empty DataFrame\n",
       "Columns: [review, rating, date, bank, source]\n",
       "Index: []"
      ]
     },
     "execution_count": 31,
     "metadata": {},
     "output_type": "execute_result"
    }
   ],
   "source": [
    "#preprocess the reviews\n",
    "preprocessing.preprocess_data()"
   ]
  },
  {
   "cell_type": "code",
   "execution_count": 30,
   "id": "36b20633",
   "metadata": {},
   "outputs": [
    {
     "name": "stdout",
     "output_type": "stream",
     "text": [
      "Saved preprocessed data to ../data/all_bank_reviews.csv\n"
     ]
    }
   ],
   "source": [
    "# save the preprocessed reviews to a CSV file\n",
    "preprocessing.save_data(\"../data/all_bank_reviews.csv\")"
   ]
  },
  {
   "cell_type": "code",
   "execution_count": null,
   "id": "ec7fc423",
   "metadata": {},
   "outputs": [],
   "source": []
  },
  {
   "cell_type": "code",
   "execution_count": null,
   "id": "ac8e2d5a",
   "metadata": {},
   "outputs": [],
   "source": []
  }
 ],
 "metadata": {
  "kernelspec": {
   "display_name": ".venv",
   "language": "python",
   "name": "python3"
  },
  "language_info": {
   "codemirror_mode": {
    "name": "ipython",
    "version": 3
   },
   "file_extension": ".py",
   "mimetype": "text/x-python",
   "name": "python",
   "nbconvert_exporter": "python",
   "pygments_lexer": "ipython3",
   "version": "3.13.1"
  }
 },
 "nbformat": 4,
 "nbformat_minor": 5
}
