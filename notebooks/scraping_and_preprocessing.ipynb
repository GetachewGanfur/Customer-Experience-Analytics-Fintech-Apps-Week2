{
 "cells": [
  {
   "cell_type": "code",
   "execution_count": 26,
   "id": "c8f4417b",
   "metadata": {},
   "outputs": [
    {
     "name": "stdout",
     "output_type": "stream",
     "text": [
      "Project root: d:\\Disk(D)\\Coding\\10Academy\\Customer-Experience-Analytics-Fintech-Apps-Week2\n",
      "The autoreload extension is already loaded. To reload it, use:\n",
      "  %reload_ext autoreload\n"
     ]
    }
   ],
   "source": [
    "import sys\n",
    "import os\n",
    "import google_play_scraper\n",
    "import pandas as pd\n",
    "\n",
    "# Get the current working directory\n",
    "os.makedirs('../data', exist_ok=True)\n",
    "current_dir = os.getcwd()\n",
    "\n",
    "# Add the project root directory to the Python path\n",
    "project_root = os.path.abspath('..')\n",
    "if project_root not in sys.path:\n",
    "    sys.path.append(project_root)\n",
    "\n",
    "# Print the project root to verify\n",
    "print(f\"Project root: {project_root}\")\n",
    "%load_ext autoreload \n",
    "%autoreload 2"
   ]
  },
  {
   "cell_type": "code",
   "execution_count": null,
   "id": "524d0948",
   "metadata": {},
   "outputs": [
    {
     "data": {
      "text/plain": [
       "'d:\\\\Disk(D)\\\\Coding\\\\10Academy\\\\Customer-Experience-Analytics-Fintech-Apps-Week2\\\\notebooks'"
      ]
     },
     "execution_count": 27,
     "metadata": {},
     "output_type": "execute_result"
    }
   ],
   "source": [
    "os.getcwd()"
   ]
  },
  {
   "cell_type": "code",
   "execution_count": 28,
   "id": "64b7cbc6",
   "metadata": {},
   "outputs": [],
   "source": [
    "from src.Preprocessing.play_store_scraper import PlayStoreScraper"
   ]
  },
  {
   "cell_type": "code",
   "execution_count": 29,
   "id": "d6e670ad",
   "metadata": {},
   "outputs": [],
   "source": [
    "from src.Preprocessing.play_store_scraper import PlayStoreScraper\n",
    "\n",
    "# Initialize the PlayStoreScraper for each bank\n",
    "CBE_scraper = PlayStoreScraper(app_name='CBE', app_id='com.combanketh.mobilebanking')\n",
    "BOA_scraper = PlayStoreScraper(app_name='BOA', app_id='com.boa.boaMobileBanking')\n",
    "Dashen_scraper = PlayStoreScraper(app_name='Dashen', app_id='com.dashen.dashensuperapp')\n"
   ]
  },
  {
   "cell_type": "code",
   "execution_count": 30,
   "id": "3605429d",
   "metadata": {},
   "outputs": [
    {
     "name": "stdout",
     "output_type": "stream",
     "text": [
      "Fetching reviews for CBE (com.combanketh.mobilebanking)...\n",
      "Saved 500 reviews to ../data/CBE_reviews.csv\n",
      "Fetching reviews for BOA (com.boa.boaMobileBanking)...\n",
      "Saved 500 reviews to ../data/BOA_reviews.csv\n",
      "Fetching reviews for Dashen (com.dashen.dashensuperapp)...\n",
      "Saved 454 reviews to ../data/Dashen_reviews.csv\n"
     ]
    }
   ],
   "source": [
    "# scrape the reviews for each bank\n",
    "CBE_scraper.scrape_reviews()\n",
    "BOA_scraper.scrape_reviews()\n",
    "Dashen_scraper.scrape_reviews()"
   ]
  },
  {
   "cell_type": "code",
   "execution_count": 31,
   "id": "1e940724",
   "metadata": {},
   "outputs": [
    {
     "name": "stdout",
     "output_type": "stream",
     "text": [
      "Loaded data from ../data/BOA_reviews.csv\n",
      "Loaded data from ../data/CBE_reviews.csv\n",
      "Loaded data from ../data/Dashen_reviews.csv\n"
     ]
    }
   ],
   "source": [
    "from src.Preprocessing.preprocessor import Preprocessor\n",
    "\n",
    "bank_paths = [\n",
    "    \"../data/BOA_reviews.csv\",\n",
    "    \"../data/CBE_reviews.csv\",\n",
    "    \"../data/Dashen_reviews.csv\"\n",
    "]\n",
    "\n",
    "# initialize the Preprocessing class\n",
    "preprocessing = Preprocessor(file_paths=bank_paths)\n",
    "\n",
    "#load the data\n",
    "data = preprocessing.load_data()"
   ]
  },
  {
   "cell_type": "code",
   "execution_count": 32,
   "id": "efed1600",
   "metadata": {},
   "outputs": [
    {
     "name": "stdout",
     "output_type": "stream",
     "text": [
      "CBE exists: True\n",
      "BOA exists: True\n",
      "Dashen exists: True\n"
     ]
    }
   ],
   "source": [
    "for bank in ['CBE', 'BOA', 'Dashen']:\n",
    "    path = f'../data/{bank}_reviews.csv'\n",
    "    print(bank, 'exists:', os.path.exists(path))"
   ]
  },
  {
   "cell_type": "code",
   "execution_count": 33,
   "id": "2e62d09b",
   "metadata": {},
   "outputs": [
    {
     "data": {
      "application/vnd.microsoft.datawrangler.viewer.v0+json": {
       "columns": [
        {
         "name": "index",
         "rawType": "int64",
         "type": "integer"
        },
        {
         "name": "review",
         "rawType": "object",
         "type": "string"
        },
        {
         "name": "rating",
         "rawType": "int64",
         "type": "integer"
        },
        {
         "name": "date",
         "rawType": "datetime64[ns]",
         "type": "datetime"
        },
        {
         "name": "bank",
         "rawType": "object",
         "type": "string"
        },
        {
         "name": "source",
         "rawType": "object",
         "type": "string"
        }
       ],
       "ref": "9f217bc4-e261-47dc-9af8-2a1cbbb92885",
       "rows": [
        [
         "0",
         "the worst app humans ever created",
         "1",
         "2025-06-09 00:00:00",
         "BOA",
         "Google Play"
        ],
        [
         "1",
         "it's not working",
         "3",
         "2025-06-05 00:00:00",
         "BOA",
         "Google Play"
        ],
        [
         "2",
         "Hello, I’m facing a problem with the BOA Mobile app. Every time I enter my phone number and password, the app crashes and shows an error that says “BoaMobile closed because this app has a bug.” I tried updating, reinstalling, and clearing cache, but nothing worked. Please fix this bug in the next update. I really need access to my account. Thank you.",
         "1",
         "2025-06-03 00:00:00",
         "BOA",
         "Google Play"
        ],
        [
         "3",
         "exceptional",
         "5",
         "2025-06-03 00:00:00",
         "BOA",
         "Google Play"
        ],
        [
         "4",
         "BoA Mobile good bank",
         "5",
         "2025-06-02 00:00:00",
         "BOA",
         "Google Play"
        ],
        [
         "5",
         "this is worest app 24/7 loading",
         "1",
         "2025-06-01 00:00:00",
         "BOA",
         "Google Play"
        ],
        [
         "6",
         "This App is not interest for Android phone Please update it .",
         "1",
         "2025-06-01 00:00:00",
         "BOA",
         "Google Play"
        ],
        [
         "7",
         "BoA system is confartable",
         "5",
         "2025-06-01 00:00:00",
         "BOA",
         "Google Play"
        ],
        [
         "8",
         "this app, for me , is a waste of time. It doesn't work . I can't even long in, and it really piss me off. FIX THE PROBLEM",
         "1",
         "2025-05-27 00:00:00",
         "BOA",
         "Google Play"
        ],
        [
         "9",
         "Good service.",
         "3",
         "2025-05-25 00:00:00",
         "BOA",
         "Google Play"
        ],
        [
         "10",
         "the app crush frequently",
         "1",
         "2025-05-24 00:00:00",
         "BOA",
         "Google Play"
        ],
        [
         "11",
         "good",
         "5",
         "2025-05-22 00:00:00",
         "BOA",
         "Google Play"
        ],
        [
         "12",
         "You guys keeps getting worst",
         "1",
         "2025-05-22 00:00:00",
         "BOA",
         "Google Play"
        ],
        [
         "13",
         "This app is a joke. It crashes more than it works, takes forever to load, and half the features are just decorative at this point. Can’t log in, can’t transfer money, can’t even check my balance without it bugging out. To the developer: Are you actually trying to make this work, or is this some kind of social experiment to test our patience? Did you build this in your sleep? Because it definitely looks like it. If this is your idea of a functional app, maybe consider a different career path🙏",
         "1",
         "2025-05-21 00:00:00",
         "BOA",
         "Google Play"
        ],
        [
         "14",
         "BoA",
         "2",
         "2025-05-20 00:00:00",
         "BOA",
         "Google Play"
        ],
        [
         "15",
         "but not opening on android",
         "4",
         "2025-05-19 00:00:00",
         "BOA",
         "Google Play"
        ],
        [
         "16",
         "Worst App ever. Totally unreliable. And it didn't work at all for the last 4 months.",
         "1",
         "2025-05-18 00:00:00",
         "BOA",
         "Google Play"
        ],
        [
         "17",
         "amazing",
         "5",
         "2025-05-18 00:00:00",
         "BOA",
         "Google Play"
        ],
        [
         "18",
         "excellent app",
         "4",
         "2025-05-16 00:00:00",
         "BOA",
         "Google Play"
        ],
        [
         "19",
         "excellent",
         "5",
         "2025-05-15 00:00:00",
         "BOA",
         "Google Play"
        ],
        [
         "20",
         "ሞላዬ ከበደ",
         "5",
         "2025-05-14 00:00:00",
         "BOA",
         "Google Play"
        ],
        [
         "21",
         "this app does no work on Samsung a51, it just gives a preview of the logo",
         "1",
         "2025-05-11 00:00:00",
         "BOA",
         "Google Play"
        ],
        [
         "22",
         "nice",
         "5",
         "2025-05-10 00:00:00",
         "BOA",
         "Google Play"
        ],
        [
         "23",
         "i entered incorrect security question by mistake boa app lock pin forever, why is there no other options? ?? i contacted different branchs more then 4times but they didn't able to solve this issue .",
         "5",
         "2025-05-10 00:00:00",
         "BOA",
         "Google Play"
        ],
        [
         "24",
         "Best app",
         "5",
         "2025-05-09 00:00:00",
         "BOA",
         "Google Play"
        ],
        [
         "25",
         "liking this application good 👍",
         "5",
         "2025-05-07 00:00:00",
         "BOA",
         "Google Play"
        ],
        [
         "26",
         "This app future is good, but there is problems with apps to reset and activate it, which is difficult even to the branch staffs, and it takes too long times to active at the branch plus most of the time high expected failure of activation after process at the counter and OTP sent not work",
         "1",
         "2025-05-06 00:00:00",
         "BOA",
         "Google Play"
        ],
        [
         "27",
         "wow",
         "5",
         "2025-04-28 00:00:00",
         "BOA",
         "Google Play"
        ],
        [
         "28",
         "it's really good 👍",
         "5",
         "2025-04-23 00:00:00",
         "BOA",
         "Google Play"
        ],
        [
         "29",
         "Bad app . it stuck when you open and noting WORKS.",
         "1",
         "2025-04-23 00:00:00",
         "BOA",
         "Google Play"
        ],
        [
         "30",
         "the app isn't working after it asked me the password it starts loading, but it doesn't open",
         "3",
         "2025-04-20 00:00:00",
         "BOA",
         "Google Play"
        ],
        [
         "31",
         "Best",
         "2",
         "2025-04-19 00:00:00",
         "BOA",
         "Google Play"
        ],
        [
         "32",
         "It keeps showing this pop up to turn off developer options even tho it's off! I had to turn on and then off to make it work! This is a horrible experience and needs a fix asap! Plus kinda slow.",
         "1",
         "2025-04-19 00:00:00",
         "BOA",
         "Google Play"
        ],
        [
         "33",
         "yideg",
         "1",
         "2025-04-18 00:00:00",
         "BOA",
         "Google Play"
        ],
        [
         "34",
         "አይከፍትም እኮ",
         "1",
         "2025-04-17 00:00:00",
         "BOA",
         "Google Play"
        ],
        [
         "35",
         "great boa",
         "5",
         "2025-04-10 00:00:00",
         "BOA",
         "Google Play"
        ],
        [
         "36",
         "boa of mobile backing",
         "5",
         "2025-04-09 00:00:00",
         "BOA",
         "Google Play"
        ],
        [
         "37",
         "faster bank of Abissinya",
         "5",
         "2025-04-08 00:00:00",
         "BOA",
         "Google Play"
        ],
        [
         "38",
         "i would have given it a lower if it was possible because it crush so much and it take the bank so long to fix the bug",
         "1",
         "2025-04-08 00:00:00",
         "BOA",
         "Google Play"
        ],
        [
         "39",
         "it just doesn't work...so frustrating",
         "1",
         "2025-04-07 00:00:00",
         "BOA",
         "Google Play"
        ],
        [
         "40",
         "like",
         "5",
         "2025-04-06 00:00:00",
         "BOA",
         "Google Play"
        ],
        [
         "41",
         "it's not work correctly... you must have update it",
         "1",
         "2025-04-06 00:00:00",
         "BOA",
         "Google Play"
        ],
        [
         "42",
         "the app gets a considerable improvements like language , QR scanner and unlimited transfers survice. but BOA Please do alot on its fastness and convenient when we login and making a transactions.",
         "5",
         "2025-04-04 00:00:00",
         "BOA",
         "Google Play"
        ],
        [
         "43",
         "after i typed in my password it says successfully logged out ...and goes back to the first page",
         "2",
         "2025-04-04 00:00:00",
         "BOA",
         "Google Play"
        ],
        [
         "44",
         "good but they don't update enough don't add new things",
         "3",
         "2025-04-04 00:00:00",
         "BOA",
         "Google Play"
        ],
        [
         "45",
         "very good",
         "5",
         "2025-04-03 00:00:00",
         "BOA",
         "Google Play"
        ],
        [
         "46",
         "thank you",
         "5",
         "2025-04-02 00:00:00",
         "BOA",
         "Google Play"
        ],
        [
         "47",
         "it doesn't work period z slowest mobile banking ever i would rather use *815#",
         "1",
         "2025-04-01 00:00:00",
         "BOA",
         "Google Play"
        ],
        [
         "48",
         "after activated the application it not allowed to sign , automatically it is turn off In my phone, why ?",
         "1",
         "2025-03-31 00:00:00",
         "BOA",
         "Google Play"
        ],
        [
         "49",
         "good application",
         "5",
         "2025-03-30 00:00:00",
         "BOA",
         "Google Play"
        ]
       ],
       "shape": {
        "columns": 5,
        "rows": 1236
       }
      },
      "text/html": [
       "<div>\n",
       "<style scoped>\n",
       "    .dataframe tbody tr th:only-of-type {\n",
       "        vertical-align: middle;\n",
       "    }\n",
       "\n",
       "    .dataframe tbody tr th {\n",
       "        vertical-align: top;\n",
       "    }\n",
       "\n",
       "    .dataframe thead th {\n",
       "        text-align: right;\n",
       "    }\n",
       "</style>\n",
       "<table border=\"1\" class=\"dataframe\">\n",
       "  <thead>\n",
       "    <tr style=\"text-align: right;\">\n",
       "      <th></th>\n",
       "      <th>review</th>\n",
       "      <th>rating</th>\n",
       "      <th>date</th>\n",
       "      <th>bank</th>\n",
       "      <th>source</th>\n",
       "    </tr>\n",
       "  </thead>\n",
       "  <tbody>\n",
       "    <tr>\n",
       "      <th>0</th>\n",
       "      <td>the worst app humans ever created</td>\n",
       "      <td>1</td>\n",
       "      <td>2025-06-09</td>\n",
       "      <td>BOA</td>\n",
       "      <td>Google Play</td>\n",
       "    </tr>\n",
       "    <tr>\n",
       "      <th>1</th>\n",
       "      <td>it's not working</td>\n",
       "      <td>3</td>\n",
       "      <td>2025-06-05</td>\n",
       "      <td>BOA</td>\n",
       "      <td>Google Play</td>\n",
       "    </tr>\n",
       "    <tr>\n",
       "      <th>2</th>\n",
       "      <td>Hello, I’m facing a problem with the BOA Mobil...</td>\n",
       "      <td>1</td>\n",
       "      <td>2025-06-03</td>\n",
       "      <td>BOA</td>\n",
       "      <td>Google Play</td>\n",
       "    </tr>\n",
       "    <tr>\n",
       "      <th>3</th>\n",
       "      <td>exceptional</td>\n",
       "      <td>5</td>\n",
       "      <td>2025-06-03</td>\n",
       "      <td>BOA</td>\n",
       "      <td>Google Play</td>\n",
       "    </tr>\n",
       "    <tr>\n",
       "      <th>4</th>\n",
       "      <td>BoA Mobile good bank</td>\n",
       "      <td>5</td>\n",
       "      <td>2025-06-02</td>\n",
       "      <td>BOA</td>\n",
       "      <td>Google Play</td>\n",
       "    </tr>\n",
       "    <tr>\n",
       "      <th>...</th>\n",
       "      <td>...</td>\n",
       "      <td>...</td>\n",
       "      <td>...</td>\n",
       "      <td>...</td>\n",
       "      <td>...</td>\n",
       "    </tr>\n",
       "    <tr>\n",
       "      <th>1231</th>\n",
       "      <td>Faster and userfriendly</td>\n",
       "      <td>5</td>\n",
       "      <td>2025-01-14</td>\n",
       "      <td>Dashen</td>\n",
       "      <td>Google Play</td>\n",
       "    </tr>\n",
       "    <tr>\n",
       "      <th>1232</th>\n",
       "      <td>Waw Great and innovated,user friendly, always ...</td>\n",
       "      <td>5</td>\n",
       "      <td>2025-01-13</td>\n",
       "      <td>Dashen</td>\n",
       "      <td>Google Play</td>\n",
       "    </tr>\n",
       "    <tr>\n",
       "      <th>1233</th>\n",
       "      <td>It's Best waww 🙏</td>\n",
       "      <td>5</td>\n",
       "      <td>2025-01-13</td>\n",
       "      <td>Dashen</td>\n",
       "      <td>Google Play</td>\n",
       "    </tr>\n",
       "    <tr>\n",
       "      <th>1234</th>\n",
       "      <td>Always one step ahead</td>\n",
       "      <td>5</td>\n",
       "      <td>2025-01-13</td>\n",
       "      <td>Dashen</td>\n",
       "      <td>Google Play</td>\n",
       "    </tr>\n",
       "    <tr>\n",
       "      <th>1235</th>\n",
       "      <td>Like Me, I Hope It Works Better Than Before.</td>\n",
       "      <td>5</td>\n",
       "      <td>2025-01-11</td>\n",
       "      <td>Dashen</td>\n",
       "      <td>Google Play</td>\n",
       "    </tr>\n",
       "  </tbody>\n",
       "</table>\n",
       "<p>1236 rows × 5 columns</p>\n",
       "</div>"
      ],
      "text/plain": [
       "                                                 review  rating       date  \\\n",
       "0                     the worst app humans ever created       1 2025-06-09   \n",
       "1                                      it's not working       3 2025-06-05   \n",
       "2     Hello, I’m facing a problem with the BOA Mobil...       1 2025-06-03   \n",
       "3                                           exceptional       5 2025-06-03   \n",
       "4                                  BoA Mobile good bank       5 2025-06-02   \n",
       "...                                                 ...     ...        ...   \n",
       "1231                            Faster and userfriendly       5 2025-01-14   \n",
       "1232  Waw Great and innovated,user friendly, always ...       5 2025-01-13   \n",
       "1233                                   It's Best waww 🙏       5 2025-01-13   \n",
       "1234                              Always one step ahead       5 2025-01-13   \n",
       "1235       Like Me, I Hope It Works Better Than Before.       5 2025-01-11   \n",
       "\n",
       "        bank       source  \n",
       "0        BOA  Google Play  \n",
       "1        BOA  Google Play  \n",
       "2        BOA  Google Play  \n",
       "3        BOA  Google Play  \n",
       "4        BOA  Google Play  \n",
       "...      ...          ...  \n",
       "1231  Dashen  Google Play  \n",
       "1232  Dashen  Google Play  \n",
       "1233  Dashen  Google Play  \n",
       "1234  Dashen  Google Play  \n",
       "1235  Dashen  Google Play  \n",
       "\n",
       "[1236 rows x 5 columns]"
      ]
     },
     "execution_count": 33,
     "metadata": {},
     "output_type": "execute_result"
    }
   ],
   "source": [
    "#preprocess the reviews\n",
    "preprocessing.preprocess_data()"
   ]
  },
  {
   "cell_type": "code",
   "execution_count": 34,
   "id": "36b20633",
   "metadata": {},
   "outputs": [
    {
     "name": "stdout",
     "output_type": "stream",
     "text": [
      "Saved preprocessed data to ../data/all_bank_reviews.csv\n"
     ]
    }
   ],
   "source": [
    "# save the preprocessed reviews to a CSV file\n",
    "preprocessing.save_data(\"../data/all_bank_reviews.csv\")"
   ]
  },
  {
   "cell_type": "code",
   "execution_count": null,
   "id": "ec7fc423",
   "metadata": {},
   "outputs": [],
   "source": []
  },
  {
   "cell_type": "code",
   "execution_count": null,
   "id": "ac8e2d5a",
   "metadata": {},
   "outputs": [],
   "source": []
  }
 ],
 "metadata": {
  "kernelspec": {
   "display_name": ".venv",
   "language": "python",
   "name": "python3"
  },
  "language_info": {
   "codemirror_mode": {
    "name": "ipython",
    "version": 3
   },
   "file_extension": ".py",
   "mimetype": "text/x-python",
   "name": "python",
   "nbconvert_exporter": "python",
   "pygments_lexer": "ipython3",
   "version": "3.13.1"
  }
 },
 "nbformat": 4,
 "nbformat_minor": 5
}
